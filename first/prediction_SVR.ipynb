{
 "cells": [
  {
   "cell_type": "code",
   "execution_count": 1,
   "metadata": {
    "collapsed": true
   },
   "outputs": [],
   "source": [
    "# using SVR to do the prediction"
   ]
  },
  {
   "cell_type": "code",
   "execution_count": 2,
   "metadata": {
    "collapsed": true
   },
   "outputs": [],
   "source": [
    "# to change the data into the right format\n",
    "def transform_series(series,window_size):\n",
    "    # containers for input/output pairs\n",
    "    X = []\n",
    "    y = []\n",
    "    #print(len(series))\n",
    "    for i in range(len(series)-window_size):\n",
    "        X.append(series[i:i+window_size])\n",
    "        y.append(series[i+window_size])\n",
    "    # reshape each \n",
    "    \n",
    "    X = np.asarray(X)\n",
    "    X.shape = (np.shape(X)[0:2])\n",
    "    y = np.asarray(y)\n",
    "    y.shape = (len(y),1)\n",
    "    return X,y"
   ]
  },
  {
   "cell_type": "code",
   "execution_count": 3,
   "metadata": {
    "collapsed": true
   },
   "outputs": [],
   "source": [
    "# normalise the data that will be used to train the model\n",
    "from pandas import Series\n",
    "import numpy as np\n",
    "import pandas as pd\n",
    "series = Series.from_csv('N_cur_2017_01_05.csv', header=0)\n",
    "series = pd.to_numeric(series,errors='coerce')\n",
    "series = series.dropna(axis=0)\n",
    "window_size = 7\n",
    "series = series.tolist()\n",
    "#print (len(series))\n",
    "# series = series[0:500]\n",
    "mean_series = np.mean(series)\n",
    "series = (series-mean_series)/mean_series\n",
    "\n",
    "X,y = transform_series(series = series,window_size = window_size)"
   ]
  },
  {
   "cell_type": "code",
   "execution_count": 4,
   "metadata": {
    "collapsed": true
   },
   "outputs": [],
   "source": [
    "# to divide the dataset into training set and test set\n",
    "train_test_split = int(np.ceil(2*len(y)/float(3)))   # set the split point, np.ceil: Return the ceiling of the input, element-wise.\n",
    "\n",
    "# 2/3 of the whole dataset is training set\n",
    "X_train = X[:train_test_split,:]\n",
    "y_train = y[:train_test_split]\n",
    "\n",
    "# 1/3 of the whole dataset is test set\n",
    "X_test = X[train_test_split:,:]\n",
    "y_test = y[train_test_split:]"
   ]
  },
  {
   "cell_type": "code",
   "execution_count": 13,
   "metadata": {},
   "outputs": [
    {
     "name": "stderr",
     "output_type": "stream",
     "text": [
      "F:\\anaconda\\envs\\individual-project\\lib\\site-packages\\sklearn\\utils\\validation.py:526: DataConversionWarning: A column-vector y was passed when a 1d array was expected. Please change the shape of y to (n_samples, ), for example using ravel().\n",
      "  y = column_or_1d(y, warn=True)\n"
     ]
    },
    {
     "data": {
      "text/plain": [
       "SVR(C=1000, cache_size=200, coef0=0.0, degree=3, epsilon=0.001, gamma='auto',\n",
       "  kernel='rbf', max_iter=-1, shrinking=True, tol=0.001, verbose=False)"
      ]
     },
     "execution_count": 13,
     "metadata": {},
     "output_type": "execute_result"
    }
   ],
   "source": [
    "# to train the data modeling using SVR\n",
    "from sklearn.svm import SVR\n",
    "import numpy as np\n",
    "#from sklearn.utils import column_or_1d\n",
    "\n",
    "np.random.seed(0)\n",
    "y = y_train\n",
    "X = X_train\n",
    "#y = column_or_1d(y, warn=True)\n",
    "clf = SVR(kernel='rbf', C=1000, epsilon=0.001)\n",
    "clf.fit(X, y) "
   ]
  },
  {
   "cell_type": "code",
   "execution_count": 14,
   "metadata": {},
   "outputs": [
    {
     "name": "stdout",
     "output_type": "stream",
     "text": [
      "The score of the mean-absolute-error\n",
      "0.100664721886\n"
     ]
    },
    {
     "data": {
      "image/png": "[encoded data removed]",
      "text/plain": [
       "<matplotlib.figure.Figure at 0x27e9e48a710>"
      ]
     },
     "metadata": {},
     "output_type": "display_data"
    }
   ],
   "source": [
    "# 图像展示预测结果\n",
    "import matplotlib.pyplot as plt\n",
    "from sklearn.metrics import mean_absolute_error\n",
    "%matplotlib inline\n",
    "\n",
    "# plot original series\n",
    "plt.plot(series[-24:]*mean_series+mean_series,color = 'r', label='Original')\n",
    "test_predict = clf.predict(X_test)\n",
    "print(\"The score of the mean-absolute-error\")\n",
    "print (mean_absolute_error(y_test, test_predict))\n",
    "# print(len(test_predict))\n",
    "# plot testing set prediction\n",
    "plt.plot(np.arange(0,24,1),test_predict[-24:]*mean_series+mean_series,color = 'b', label='Predict')\n",
    "\n",
    "# pretty up graph\n",
    "plt.xlabel('hour')\n",
    "plt.ylabel('2017 series value')\n",
    "plt.legend(['original series','training fit','testing fit'],loc='best')\n",
    "plt.show()"
   ]
  },
  {
   "cell_type": "code",
   "execution_count": null,
   "metadata": {
    "collapsed": true
   },
   "outputs": [],
   "source": []
  }
 ],
 "metadata": {
  "kernelspec": {
   "display_name": "Python 3",
   "language": "python",
   "name": "python3"
  },
  "language_info": {
   "codemirror_mode": {
    "name": "ipython",
    "version": 3
   },
   "file_extension": ".py",
   "mimetype": "text/x-python",
   "name": "python",
   "nbconvert_exporter": "python",
   "pygments_lexer": "ipython3",
   "version": "3.5.1"
  }
 },
 "nbformat": 4,
 "nbformat_minor": 2
}
