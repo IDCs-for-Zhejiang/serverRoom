{
 "cells": [
  {
   "cell_type": "code",
   "execution_count": 1,
   "metadata": {
    "collapsed": true
   },
   "outputs": [],
   "source": [
    "# using"
   ]
  },
  {
   "cell_type": "code",
   "execution_count": 2,
   "metadata": {
    "collapsed": true
   },
   "outputs": [],
   "source": [
    "# to change the data into the right format\n",
    "def transform_series(series,window_size):\n",
    "    # containers for input/output pairs\n",
    "    X = []\n",
    "    y = []\n",
    "    #print(len(series))\n",
    "    for i in range(len(series)-window_size):\n",
    "        X.append(series[i:i+window_size])\n",
    "        y.append(series[i+window_size])\n",
    "    # reshape each \n",
    "    \n",
    "    X = np.asarray(X)\n",
    "    X.shape = (np.shape(X)[0:2])\n",
    "    y = np.asarray(y)\n",
    "    y.shape = (len(y),1)\n",
    "    return X,y"
   ]
  },
  {
   "cell_type": "code",
   "execution_count": 3,
   "metadata": {
    "collapsed": true
   },
   "outputs": [],
   "source": [
    "# normalise the data that will be used to train the model\n",
    "from pandas import Series\n",
    "import numpy as np\n",
    "import pandas as pd\n",
    "series = Series.from_csv('N_cur_2017_01_05.csv', header=0)\n",
    "series = pd.to_numeric(series,errors='coerce')\n",
    "series = series.dropna(axis=0)\n",
    "window_size = 7\n",
    "series = series.tolist()\n",
    "#print (len(series))\n",
    "# series = series[0:500]\n",
    "mean_series = np.mean(series)\n",
    "series = (series-mean_series)/mean_series\n",
    "\n",
    "X,y = transform_series(series = series,window_size = window_size)"
   ]
  },
  {
   "cell_type": "code",
   "execution_count": 4,
   "metadata": {
    "collapsed": true
   },
   "outputs": [],
   "source": [
    "# to divide the dataset into training set and test set\n",
    "train_test_split = int(np.ceil(2*len(y)/float(3)))   # set the split point, np.ceil: Return the ceiling of the input, element-wise.\n",
    "\n",
    "# 2/3 of the whole dataset is training set\n",
    "X_train = X[:train_test_split,:]\n",
    "y_train = y[:train_test_split]\n",
    "\n",
    "# 1/3 of the whole dataset is test set\n",
    "X_test = X[train_test_split:,:]\n",
    "y_test = y[train_test_split:]"
   ]
  },
  {
   "cell_type": "code",
   "execution_count": 5,
   "metadata": {},
   "outputs": [
    {
     "data": {
      "text/plain": [
       "Ridge(alpha=1.0, copy_X=True, fit_intercept=True, max_iter=None,\n",
       "   normalize=False, random_state=None, solver='auto', tol=0.001)"
      ]
     },
     "execution_count": 5,
     "metadata": {},
     "output_type": "execute_result"
    }
   ],
   "source": [
    "# to train the modelling using ridge regression\n",
    "from sklearn.linear_model import Ridge\n",
    "import numpy as np\n",
    "\n",
    "np.random.seed(0)\n",
    "y = y_train\n",
    "X = X_train\n",
    "clf = Ridge(alpha=1.0)\n",
    "clf.fit(X, y) "
   ]
  },
  {
   "cell_type": "code",
   "execution_count": 6,
   "metadata": {},
   "outputs": [
    {
     "name": "stdout",
     "output_type": "stream",
     "text": [
      "The score of the accurancy\n",
      "0.786787482858\n"
     ]
    },
    {
     "data": {
      "image/png": "[encoded data removed]",
      "text/plain": [
       "<matplotlib.figure.Figure at 0x1c6db9f69e8>"
      ]
     },
     "metadata": {},
     "output_type": "display_data"
    }
   ],
   "source": [
    "# 图像展示预测结果\n",
    "import matplotlib.pyplot as plt\n",
    "%matplotlib inline\n",
    "\n",
    "# plot original series\n",
    "plt.plot(series[-24:]*mean_series+mean_series,color = 'r', label='Original')\n",
    "test_predict = clf.predict(X_test)\n",
    "print(\"The score of the accurancy\")\n",
    "print (clf.score(X, y))\n",
    "# print(len(test_predict))\n",
    "# plot testing set prediction\n",
    "plt.plot(np.arange(0,24,1),test_predict[-24:]*mean_series+mean_series,color = 'b', label='Predict')\n",
    "\n",
    "# pretty up graph\n",
    "plt.xlabel('hour')\n",
    "plt.ylabel('2017 series value')\n",
    "plt.legend(['original series','training fit','testing fit'],loc='best')\n",
    "plt.show()"
   ]
  },
  {
   "cell_type": "code",
   "execution_count": null,
   "metadata": {
    "collapsed": true
   },
   "outputs": [],
   "source": []
  }
 ],
 "metadata": {
  "kernelspec": {
   "display_name": "Python 3",
   "language": "python",
   "name": "python3"
  },
  "language_info": {
   "codemirror_mode": {
    "name": "ipython",
    "version": 3
   },
   "file_extension": ".py",
   "mimetype": "text/x-python",
   "name": "python",
   "nbconvert_exporter": "python",
   "pygments_lexer": "ipython3",
   "version": "3.5.1"
  }
 },
 "nbformat": 4,
 "nbformat_minor": 2
}
